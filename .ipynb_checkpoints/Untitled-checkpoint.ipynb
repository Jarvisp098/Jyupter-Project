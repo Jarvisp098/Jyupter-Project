{
 "cells": [
  {
   "cell_type": "code",
   "execution_count": 8,
   "id": "2a465df4-7262-45a9-a49e-cd3680bb309f",
   "metadata": {},
   "outputs": [
    {
     "name": "stdout",
     "output_type": "stream",
     "text": [
      "     Name    Age           City   Salary\n",
      "0  Alicia   24.0       New York  70000.0\n",
      "1     Bob    NaN            NaN  80000.0\n",
      "2   Naved   56.0      Cupertino      NaN\n",
      "3   David  100.0  San fransisco  90000.0\n",
      "Name      0\n",
      "Age       1\n",
      "City      1\n",
      "Salary    1\n",
      "dtype: int64\n"
     ]
    }
   ],
   "source": [
    "import pandas as pd\n",
    "import numpy as np\n",
    "\n",
    "#data dictionary\n",
    "data = {\n",
    "    'Name': ['Alicia', 'Bob', 'Naved', 'David'],\n",
    "    'Age': [24, np.nan, 56, 100],\n",
    "    'City': ['New York', np.nan, 'Cupertino', 'San fransisco'],\n",
    "    'Salary': [70000, 80000, np.nan, 90000]\n",
    "}\n",
    "df = pd.DataFrame(data)\n",
    "\n",
    "print(df)\n",
    "print(df.isnull().sum())"
   ]
  },
  {
   "cell_type": "code",
   "execution_count": 9,
   "id": "6e34aba5-22b8-4dbc-ab02-ac960af5376b",
   "metadata": {},
   "outputs": [
    {
     "data": {
      "text/html": [
       "<div>\n",
       "<style scoped>\n",
       "    .dataframe tbody tr th:only-of-type {\n",
       "        vertical-align: middle;\n",
       "    }\n",
       "\n",
       "    .dataframe tbody tr th {\n",
       "        vertical-align: top;\n",
       "    }\n",
       "\n",
       "    .dataframe thead th {\n",
       "        text-align: right;\n",
       "    }\n",
       "</style>\n",
       "<table border=\"1\" class=\"dataframe\">\n",
       "  <thead>\n",
       "    <tr style=\"text-align: right;\">\n",
       "      <th></th>\n",
       "      <th>Name</th>\n",
       "      <th>Age</th>\n",
       "      <th>City</th>\n",
       "      <th>Salary</th>\n",
       "    </tr>\n",
       "  </thead>\n",
       "  <tbody>\n",
       "    <tr>\n",
       "      <th>0</th>\n",
       "      <td>Alicia</td>\n",
       "      <td>24.0</td>\n",
       "      <td>New York</td>\n",
       "      <td>70000.0</td>\n",
       "    </tr>\n",
       "    <tr>\n",
       "      <th>1</th>\n",
       "      <td>Bob</td>\n",
       "      <td>30.0</td>\n",
       "      <td>Unkonwn</td>\n",
       "      <td>80000.0</td>\n",
       "    </tr>\n",
       "    <tr>\n",
       "      <th>2</th>\n",
       "      <td>Naved</td>\n",
       "      <td>56.0</td>\n",
       "      <td>Cupertino</td>\n",
       "      <td>12.0</td>\n",
       "    </tr>\n",
       "    <tr>\n",
       "      <th>3</th>\n",
       "      <td>David</td>\n",
       "      <td>100.0</td>\n",
       "      <td>San fransisco</td>\n",
       "      <td>90000.0</td>\n",
       "    </tr>\n",
       "  </tbody>\n",
       "</table>\n",
       "</div>"
      ],
      "text/plain": [
       "     Name    Age           City   Salary\n",
       "0  Alicia   24.0       New York  70000.0\n",
       "1     Bob   30.0        Unkonwn  80000.0\n",
       "2   Naved   56.0      Cupertino     12.0\n",
       "3   David  100.0  San fransisco  90000.0"
      ]
     },
     "execution_count": 9,
     "metadata": {},
     "output_type": "execute_result"
    }
   ],
   "source": [
    "df['Age'] = df['Age'].fillna(30)\n",
    "df['Salary'] = df['Salary'].fillna(12)\n",
    "df['City'] = df['City'].fillna('Unkonwn')\n",
    "df"
   ]
  },
  {
   "cell_type": "code",
   "execution_count": null,
   "id": "cfc30642-541b-4268-ba3b-18cd847f6818",
   "metadata": {},
   "outputs": [],
   "source": []
  }
 ],
 "metadata": {
  "kernelspec": {
   "display_name": "Python 3 (ipykernel)",
   "language": "python",
   "name": "python3"
  },
  "language_info": {
   "codemirror_mode": {
    "name": "ipython",
    "version": 3
   },
   "file_extension": ".py",
   "mimetype": "text/x-python",
   "name": "python",
   "nbconvert_exporter": "python",
   "pygments_lexer": "ipython3",
   "version": "3.12.4"
  }
 },
 "nbformat": 4,
 "nbformat_minor": 5
}
