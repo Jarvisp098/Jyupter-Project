{
 "cells": [
  {
   "cell_type": "code",
   "execution_count": 8,
   "id": "88cb2548-0cef-4f09-b03b-de7b39af8751",
   "metadata": {},
   "outputs": [
    {
     "name": "stdout",
     "output_type": "stream",
     "text": [
      "Colums:\n",
      "['Geography', 'Canada (map)', 'Products and product groups3, 4', 'April 2024', 'May 2024', 'June 2024', 'July 2024', 'August 2024', '', '2002=100', 'All-items', 'Food5', 'Shelter6', 'Household operations, furnishings and equipment', 'Clothing and footwear', 'Transportation', 'Gasoline', 'Health and personal care', 'Recreation, education and reading', 'Alcoholic beverages, tobacco products and recreational cannabis', 'All-items excluding food and energy7', 'All-items excluding energy7', 'Energy7', 'Goods8', 'Services9']\n",
      "Rows:\n",
      "[['160.6', '161.5', '161.4', '162.1', '161.8'], ['187.4', '189.0', '190.0', '190.5', '190.3'], ['180.8', '181.5', '182.1', '182.5', '183.3'], ['130.9', '131.0', '131.0', '131.7', '131.2'], ['95.0', '95.0', '93.2', '92.6', '92.0'], ['173.8', '173.9', '173.6', '175.9', '173.5'], ['246.3', '243.2', '235.7', '241.4', '235.2'], ['150.0', '151.2', '150.8', '150.8', '151.1'], ['126.6', '129.5', '127.6', '129.1', '128.0'], ['195.9', '196.4', '196.5', '196.4', '197.9'], ['150.5', '151.4', '151.4', '152.0', '151.8'], ['156.6', '157.7', '157.8', '158.5', '158.3'], ['215.2', '212.8', '208.3', '211.6', '208.2'], ['145.4', '145.5', '144.8', '145.1', '144.6'], ['175.5', '177.2', '177.6', '178.8', '178.6']]\n"
     ]
    }
   ],
   "source": [
    "from selenium import webdriver\n",
    "from bs4 import BeautifulSoup\n",
    "from selenium.webdriver.chrome.service import Service\n",
    "import csv\n",
    "\n",
    "driver = webdriver.Chrome()\n",
    "\n",
    "page_url = \"https://www150.statcan.gc.ca/t1/tbl1/en/tv.action?pid=1810000401\"\n",
    "\n",
    "driver.get(page_url)\n",
    "\n",
    "#await for things to load\n",
    "driver.implicitly_wait(10)\n",
    "\n",
    "#get the page source\n",
    "page_source = driver.page_source\n",
    "\n",
    "#Parse the html content with bs4\n",
    "soup = BeautifulSoup(page_source, \"html.parser\")\n",
    "\n",
    "#Find the table\n",
    "table = soup.find('table', class_='pub-table')\n",
    "\n",
    "if table:\n",
    "    \n",
    "    #get the column headers\n",
    "    headers = [th.get_text().strip() for th in table.find_all('th')]\n",
    "    #print(headers)\n",
    "\n",
    "    #extract the rows\n",
    "    rows = []\n",
    "    for tr in table.find_all('tr'):\n",
    "        row = [td.get_text().strip() for td in tr.find_all('td')]\n",
    "        if row:\n",
    "            rows.append(row)\n",
    "    #Printout columns\n",
    "    print(\"Colums:\")\n",
    "    print(headers)\n",
    "\n",
    "    #Printout rows\n",
    "    print(\"Rows:\")\n",
    "    print(rows)\n",
    "\n",
    "    headers_tuple = {\n",
    "        'All-items',\n",
    "        'Food5',\n",
    "        'Shelter6',\n",
    "        'Household operations,furnishings and equipment',\n",
    "        'Clothing and footwear',\n",
    "        'Transportation',\n",
    "        'Gasoline', \n",
    "        'Health and personal care',\n",
    "        'Recreation,education and reading', \n",
    "        'Alcoholic beverages,tobacco products and recreational cannabis',\n",
    "        'All-items excluding food and energy7',\n",
    "        'All-items excluding energy7',\n",
    "        'Energy7',\n",
    "        'Goods8', \n",
    "        'Services9'\n",
    "    }\n",
    "    \n",
    "    #wirte the data to csv\n",
    "    with open ('table_data.csv', 'w', newline=\"\") as csvfile:\n",
    "        writer = csv.writer(csvfile)\n",
    "\n",
    "else:\n",
    "    print('headers not found')\n",
    "    \n",
    "driver.quit()\n"
   ]
  },
  {
   "cell_type": "code",
   "execution_count": null,
   "id": "d8cbf0c7-610b-479e-a137-311a5e4b1b50",
   "metadata": {},
   "outputs": [],
   "source": []
  }
 ],
 "metadata": {
  "kernelspec": {
   "display_name": "Python 3 (ipykernel)",
   "language": "python",
   "name": "python3"
  },
  "language_info": {
   "codemirror_mode": {
    "name": "ipython",
    "version": 3
   },
   "file_extension": ".py",
   "mimetype": "text/x-python",
   "name": "python",
   "nbconvert_exporter": "python",
   "pygments_lexer": "ipython3",
   "version": "3.12.4"
  }
 },
 "nbformat": 4,
 "nbformat_minor": 5
}
