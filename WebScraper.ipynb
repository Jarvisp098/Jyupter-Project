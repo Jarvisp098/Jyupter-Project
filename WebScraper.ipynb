{
 "cells": [
  {
   "cell_type": "code",
   "execution_count": 3,
   "id": "4e59dc25-9b05-418a-9d98-015c81802e2e",
   "metadata": {},
   "outputs": [
    {
     "name": "stdout",
     "output_type": "stream",
     "text": [
      "<table class=\"pub-table simpleTable dataTable\" id=\"simpleTable\">\n",
      "<thead class=\"simpleTableHeader\" id=\"simpleTableHeader\"></thead>\n",
      "<tbody class=\"simpleTableBody\" id=\"simpleTableBody\"></tbody>\n",
      "</table>\n"
     ]
    }
   ],
   "source": [
    "from bs4 import BeautifulSoup\n",
    "import requests\n",
    "\n",
    "#feching the webpage content\n",
    "url = 'https://www150.statcan.gc.ca/t1/tbl1/en/tv.action?pid=1810000401'\n",
    "response = requests.get(url)\n",
    "html_content = response.content\n",
    "\n",
    "#parsing HTML content with BeautifulSoup\n",
    "soup = BeautifulSoup(html_content, \"html.parser\")\n",
    "\n",
    "#Extracting specific elements\n",
    "table=soup.find(id=\"simpleTable\")\n",
    "\n",
    "print(table)\n",
    "\n",
    "if table:\n",
    "    #do something with the table\n",
    "    #extract the data and template/print it\n",
    "    rows = table.find_all(\"tr\")\n",
    "    for row in rows:\n",
    "        cells = row.find_all(\"td\")\n",
    "        for cell in cells:\n",
    "            print(cell.text.strip())\n",
    "else:\n",
    "    print(\"Table not found\")"
   ]
  },
  {
   "cell_type": "code",
   "execution_count": null,
   "id": "09654cfd-9f47-4b3c-a70c-aa923e517ec0",
   "metadata": {},
   "outputs": [],
   "source": []
  }
 ],
 "metadata": {
  "kernelspec": {
   "display_name": "Python 3 (ipykernel)",
   "language": "python",
   "name": "python3"
  },
  "language_info": {
   "codemirror_mode": {
    "name": "ipython",
    "version": 3
   },
   "file_extension": ".py",
   "mimetype": "text/x-python",
   "name": "python",
   "nbconvert_exporter": "python",
   "pygments_lexer": "ipython3",
   "version": "3.12.4"
  }
 },
 "nbformat": 4,
 "nbformat_minor": 5
}
